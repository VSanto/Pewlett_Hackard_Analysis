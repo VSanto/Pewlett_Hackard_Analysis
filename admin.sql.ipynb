{
 "cells": [
  {
   "cell_type": "code",
   "execution_count": 7,
   "id": "bbf84ea4",
   "metadata": {},
   "outputs": [
    {
     "ename": "SyntaxError",
     "evalue": "invalid syntax (Temp/ipykernel_27552/4231052962.py, line 1)",
     "output_type": "error",
     "traceback": [
      "\u001b[1;36m  File \u001b[1;32m\"C:\\Users\\Valerie\\AppData\\Local\\Temp/ipykernel_27552/4231052962.py\"\u001b[1;36m, line \u001b[1;32m1\u001b[0m\n\u001b[1;33m    select * from departments;\u001b[0m\n\u001b[1;37m             ^\u001b[0m\n\u001b[1;31mSyntaxError\u001b[0m\u001b[1;31m:\u001b[0m invalid syntax\n"
     ]
    }
   ],
   "source": [
    "select * from departments;\n",
    "select * from employees;\n",
    "select * from dept_emp;\n",
    "select * from dept_manager;\n",
    "select * from salaries;\n",
    "select * from titles;\n",
    "select * from retirement_info;\n",
    "\n",
    "# Create new table for retiring employees\n",
    "SELECT employee.emp_no,\n",
    "    employees.first_name,\n",
    "    employees.last_name,\n",
    "    titles.title,\n",
    "    titles.from_date,\n",
    "    titles.to_date\n",
    "   \n",
    "INTO retirement_titles\n",
    "from employees\n",
    "INNER JOIN titles\n",
    "ON employees.emp_no = title.emp_no\n",
    "WHERE (birth_date BETWEEN '1952-01-01' AND '1955-12-31')\n",
    "ORDER BY employees.emp_no;\n",
    " \n",
    "# Check table\n",
    "SELECT * FROM retirement_titles;"
   ]
  },
  {
   "cell_type": "code",
   "execution_count": null,
   "id": "0533668f",
   "metadata": {},
   "outputs": [],
   "source": []
  }
 ],
 "metadata": {
  "kernelspec": {
   "display_name": "PythonData",
   "language": "python",
   "name": "pythondata"
  },
  "language_info": {
   "codemirror_mode": {
    "name": "ipython",
    "version": 3
   },
   "file_extension": ".py",
   "mimetype": "text/x-python",
   "name": "python",
   "nbconvert_exporter": "python",
   "pygments_lexer": "ipython3",
   "version": "3.9.7"
  }
 },
 "nbformat": 4,
 "nbformat_minor": 5
}
